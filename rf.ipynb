{
 "cells": [
  {
   "cell_type": "markdown",
   "metadata": {},
   "source": [
    "# Imports"
   ]
  },
  {
   "cell_type": "code",
   "execution_count": 8,
   "metadata": {},
   "outputs": [],
   "source": [
    "import pandas as pd\n",
    "import numpy as np\n",
    "from pathlib import Path\n",
    "\n",
    "from sklearn.model_selection import train_test_split\n",
    "from sklearn.ensemble import RandomForestRegressor\n",
    "from sklearn.metrics import mean_squared_error, r2_score"
   ]
  },
  {
   "cell_type": "markdown",
   "metadata": {},
   "source": [
    "# read csv files"
   ]
  },
  {
   "cell_type": "code",
   "execution_count": 2,
   "metadata": {},
   "outputs": [],
   "source": [
    "base_dir = \"/Users/zaca2954/stanislawski_lab/drift_fs/csv/processed_data/\"\n",
    "\n",
    "# load the data\n",
    "pred_contrib = pd.read_csv(Path(base_dir, \"pred_metagenome_contrib.tsv\"), sep=\"\\t\")\n",
    "pred_unstrat = pd.read_csv(Path(base_dir, \"pred_metagenome_unstrat.tsv\"), sep=\"\\t\")\n",
    "\n",
    "species = pd.read_csv(Path(base_dir, \"species_latent.csv\"))"
   ]
  },
  {
   "cell_type": "code",
   "execution_count": 3,
   "metadata": {},
   "outputs": [],
   "source": [
    "## configure the pred_unstrat dataset\n",
    "\n",
    "# Filter columns with \"BL\" or taxa\n",
    "pred_unstrat = pred_unstrat.filter(regex=\"BL|function\")\n",
    "\n",
    "# Rename the columns to only include the part before \".\"\n",
    "pred_unstrat.columns = [col.split(\".\")[0] for col in pred_unstrat.columns]\n",
    "\n",
    "# make the function row the new column names\n",
    "pred_unstrat = pred_unstrat.T\n",
    "pred_unstrat.columns = pred_unstrat.iloc[0]\n",
    "pred_unstrat = pred_unstrat.drop(\"function\")"
   ]
  },
  {
   "cell_type": "code",
   "execution_count": 4,
   "metadata": {},
   "outputs": [],
   "source": [
    "## configure species dataset\n",
    "species_df = species[['subject_id', 'diff_std_bmi_score']]"
   ]
  },
  {
   "cell_type": "code",
   "execution_count": 5,
   "metadata": {},
   "outputs": [],
   "source": [
    "## configure pred_contrib dataset\n",
    "\n",
    "# obtain only the samples from the sample column that it contains only the sampel for BL\n",
    "pred_contrib = pred_contrib[pred_contrib['sample'].str.contains(\"BL\")]\n",
    "\n",
    "# split the sample column from \".\" and only obtain the first part\n",
    "pred_contrib['sample'] = pred_contrib['sample'].str.split(\".\").str[0]\n",
    "\n",
    "# set row names to the sample column\n",
    "pred_contrib = pred_contrib.set_index(\"sample\")"
   ]
  },
  {
   "cell_type": "code",
   "execution_count": 6,
   "metadata": {},
   "outputs": [],
   "source": [
    "# merge the datasets of pred_contrib and species by index for pred_contrib and subject_id for species\n",
    "\n",
    "# merge the datasets\n",
    "merged = pred_contrib.merge(species_df, left_index=True, right_on=\"subject_id\")"
   ]
  },
  {
   "cell_type": "code",
   "execution_count": null,
   "metadata": {},
   "outputs": [],
   "source": [
    "# Define features (X) and target (y)\n",
    "X = merged.drop(columns=[\"diff_std_bmi_score\", 'subject_id', 'function', 'taxon'])\n",
    "y = merged[\"diff_std_bmi_score\"]\n",
    "\n",
    "# Split the data into training and testing sets\n",
    "X_train, X_test, y_train, y_test = train_test_split(\n",
    "    X, y, test_size=0.2, random_state=42\n",
    ")\n",
    "\n",
    "# Initialize the Random Forest Regressor\n",
    "model = RandomForestRegressor(random_state=42, n_estimators=100)\n",
    "\n",
    "# Train the model\n",
    "model.fit(X_train, y_train)\n",
    "\n",
    "# Make predictions\n",
    "y_pred = model.predict(X_test)\n",
    "\n",
    "# Evaluate the model\n",
    "mse = mean_squared_error(y_test, y_pred)\n",
    "r2 = r2_score(y_test, y_pred)\n",
    "\n",
    "print(f\"Mean Squared Error: {mse:.4f}\")\n",
    "print(f\"R^2 Score: {r2:.4f}\")"
   ]
  },
  {
   "cell_type": "code",
   "execution_count": null,
   "metadata": {},
   "outputs": [],
   "source": []
  }
 ],
 "metadata": {
  "kernelspec": {
   "display_name": "stanislawski_lab",
   "language": "python",
   "name": "python3"
  },
  "language_info": {
   "codemirror_mode": {
    "name": "ipython",
    "version": 3
   },
   "file_extension": ".py",
   "mimetype": "text/x-python",
   "name": "python",
   "nbconvert_exporter": "python",
   "pygments_lexer": "ipython3",
   "version": "3.10.2"
  }
 },
 "nbformat": 4,
 "nbformat_minor": 2
}
